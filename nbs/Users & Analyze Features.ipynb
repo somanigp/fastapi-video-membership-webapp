{
 "cells": [
  {
   "cell_type": "code",
   "execution_count": 5,
   "id": "adcd48df-3981-43cd-b85b-bef9a94ad941",
   "metadata": {},
   "outputs": [
    {
     "name": "stdout",
     "output_type": "stream",
     "text": [
      "D:\\Govind's Library\\projects\\fastapi-video-membership-webapp\n"
     ]
    }
   ],
   "source": [
    "cd \"D:/Govind's Library/projects/fastapi-video-membership-webapp\""
   ]
  },
  {
   "cell_type": "code",
   "execution_count": 6,
   "id": "fbce910c-20bc-4846-8623-203c16105f4a",
   "metadata": {},
   "outputs": [
    {
     "data": {
      "text/plain": [
       "\"D:\\\\Govind's Library\\\\projects\\\\fastapi-video-membership-webapp\""
      ]
     },
     "execution_count": 6,
     "metadata": {},
     "output_type": "execute_result"
    }
   ],
   "source": [
    "pwd"
   ]
  },
  {
   "cell_type": "code",
   "execution_count": null,
   "id": "9cb3e032-4aca-4d4e-93b9-de9b8d85490f",
   "metadata": {},
   "outputs": [],
   "source": [
    "# cd.. changes the directory, helping run below cmd without error. Putting absolute path so no chance for errors."
   ]
  },
  {
   "cell_type": "code",
   "execution_count": 8,
   "id": "c85edac7-1bac-4742-bd36-e6154cb91c5a",
   "metadata": {},
   "outputs": [],
   "source": [
    "from app.users.models import User\n",
    "from app import db\n",
    "from cassandra.cqlengine.management import sync_table"
   ]
  },
  {
   "cell_type": "code",
   "execution_count": 9,
   "id": "de8f2d5f-549a-466f-aa06-cd7bf610f576",
   "metadata": {},
   "outputs": [],
   "source": [
    "db.get_session()\n",
    "sync_table(User)"
   ]
  },
  {
   "cell_type": "code",
   "execution_count": 24,
   "id": "9a32611e-f957-4428-a37c-9b27683a215d",
   "metadata": {},
   "outputs": [
    {
     "name": "stdout",
     "output_type": "stream",
     "text": [
      "[User(email=somanigp12@gmail.com, user_id=e2176ad2-f767-11ef-a83f-b55a6820d2a6), User(email=govindsomaniact@gmail.com, user_id=a4bde204-f6d8-11ef-aa10-b55a6820d2a6), User(email=test_user0@gmail.com, user_id=747a614a-f768-11ef-a8aa-b55a6820d2a6)]\n"
     ]
    }
   ],
   "source": [
    "qs = User.objects.all().limit(10)\n",
    "print(list(qs))"
   ]
  },
  {
   "cell_type": "code",
   "execution_count": 11,
   "id": "feeb9cc8-7f49-4d38-a68a-402157da96da",
   "metadata": {},
   "outputs": [
    {
     "data": {
      "text/plain": [
       "User(email=somanigp12@gmail.com, user_id=e2176ad2-f767-11ef-a83f-b55a6820d2a6)"
      ]
     },
     "execution_count": 11,
     "metadata": {},
     "output_type": "execute_result"
    }
   ],
   "source": [
    "User.create_user(\"somanigp12@gmail.com\", \"abc123\")"
   ]
  },
  {
   "cell_type": "code",
   "execution_count": 13,
   "id": "4dc93082-8d96-4555-b170-88a781abc852",
   "metadata": {},
   "outputs": [
    {
     "ename": "Exception",
     "evalue": "User already has a account.",
     "output_type": "error",
     "traceback": [
      "\u001b[1;31m---------------------------------------------------------------------------\u001b[0m",
      "\u001b[1;31mException\u001b[0m                                 Traceback (most recent call last)",
      "Cell \u001b[1;32mIn[13], line 1\u001b[0m\n\u001b[1;32m----> 1\u001b[0m \u001b[43mUser\u001b[49m\u001b[38;5;241;43m.\u001b[39;49m\u001b[43mcreate_user\u001b[49m\u001b[43m(\u001b[49m\u001b[38;5;124;43m\"\u001b[39;49m\u001b[38;5;124;43msomanigp12@gmail.com\u001b[39;49m\u001b[38;5;124;43m\"\u001b[39;49m\u001b[43m,\u001b[49m\u001b[43m \u001b[49m\u001b[38;5;124;43m\"\u001b[39;49m\u001b[38;5;124;43mabcd123\u001b[39;49m\u001b[38;5;124;43m\"\u001b[39;49m\u001b[43m)\u001b[49m\n",
      "File \u001b[1;32mD:\\Govind's Library\\projects\\fastapi-video-membership-webapp\\app\\users\\models.py:53\u001b[0m, in \u001b[0;36mUser.create_user\u001b[1;34m(email, password)\u001b[0m\n\u001b[0;32m     51\u001b[0m \u001b[38;5;66;03m# print(qs) # SELECT \"user_id\", \"password\" FROM video_membership_app.user WHERE \"email\" = %(0)s LIMIT 10000\u001b[39;00m\n\u001b[0;32m     52\u001b[0m \u001b[38;5;28;01mif\u001b[39;00m qs\u001b[38;5;241m.\u001b[39mcount() \u001b[38;5;241m!=\u001b[39m \u001b[38;5;241m0\u001b[39m:  \u001b[38;5;66;03m# Type of qs is <class 'cassandra.cqlengine.query.ModelQuerySet'>\u001b[39;00m\n\u001b[1;32m---> 53\u001b[0m     \u001b[38;5;28;01mraise\u001b[39;00m \u001b[38;5;167;01mException\u001b[39;00m(\u001b[38;5;124m\"\u001b[39m\u001b[38;5;124mUser already has a account.\u001b[39m\u001b[38;5;124m\"\u001b[39m)\n\u001b[0;32m     55\u001b[0m valid, msg, email \u001b[38;5;241m=\u001b[39m validators\u001b[38;5;241m.\u001b[39mcheck_email_validity(email)\n\u001b[0;32m     56\u001b[0m \u001b[38;5;28;01mif\u001b[39;00m \u001b[38;5;129;01mnot\u001b[39;00m valid:\n",
      "\u001b[1;31mException\u001b[0m: User already has a account."
     ]
    }
   ],
   "source": [
    "User.create_user(\"somanigp12@gmail.com\", \"abcd123\")"
   ]
  },
  {
   "cell_type": "code",
   "execution_count": 14,
   "id": "ef809a80-3acf-4150-b531-9b490de43909",
   "metadata": {},
   "outputs": [
    {
     "ename": "Exception",
     "evalue": "Invalid email : The part after the @-sign is not valid. It should have a period.",
     "output_type": "error",
     "traceback": [
      "\u001b[1;31m---------------------------------------------------------------------------\u001b[0m",
      "\u001b[1;31mException\u001b[0m                                 Traceback (most recent call last)",
      "Cell \u001b[1;32mIn[14], line 1\u001b[0m\n\u001b[1;32m----> 1\u001b[0m \u001b[43mUser\u001b[49m\u001b[38;5;241;43m.\u001b[39;49m\u001b[43mcreate_user\u001b[49m\u001b[43m(\u001b[49m\u001b[38;5;124;43m\"\u001b[39;49m\u001b[38;5;124;43msomanigp12@gmail\u001b[39;49m\u001b[38;5;124;43m\"\u001b[39;49m\u001b[43m,\u001b[49m\u001b[43m \u001b[49m\u001b[38;5;124;43m\"\u001b[39;49m\u001b[38;5;124;43mabcd123\u001b[39;49m\u001b[38;5;124;43m\"\u001b[39;49m\u001b[43m)\u001b[49m\n",
      "File \u001b[1;32mD:\\Govind's Library\\projects\\fastapi-video-membership-webapp\\app\\users\\models.py:57\u001b[0m, in \u001b[0;36mUser.create_user\u001b[1;34m(email, password)\u001b[0m\n\u001b[0;32m     55\u001b[0m valid, msg, email \u001b[38;5;241m=\u001b[39m validators\u001b[38;5;241m.\u001b[39mcheck_email_validity(email)\n\u001b[0;32m     56\u001b[0m \u001b[38;5;28;01mif\u001b[39;00m \u001b[38;5;129;01mnot\u001b[39;00m valid:\n\u001b[1;32m---> 57\u001b[0m     \u001b[38;5;28;01mraise\u001b[39;00m \u001b[38;5;167;01mException\u001b[39;00m(\u001b[38;5;124mf\u001b[39m\u001b[38;5;124m\"\u001b[39m\u001b[38;5;124mInvalid email : \u001b[39m\u001b[38;5;132;01m{\u001b[39;00mmsg\u001b[38;5;132;01m}\u001b[39;00m\u001b[38;5;124m\"\u001b[39m)\n\u001b[0;32m     59\u001b[0m obj \u001b[38;5;241m=\u001b[39m User(email\u001b[38;5;241m=\u001b[39memail)  \u001b[38;5;66;03m# Create an User object/Instance.\u001b[39;00m\n\u001b[0;32m     60\u001b[0m obj\u001b[38;5;241m.\u001b[39mset_password(password) \u001b[38;5;66;03m# in set_password func commit will go as false, thus object won't be saved in db in that function, but will happen below. \u001b[39;00m\n",
      "\u001b[1;31mException\u001b[0m: Invalid email : The part after the @-sign is not valid. It should have a period."
     ]
    }
   ],
   "source": [
    "User.create_user(\"somanigp12@gmail\", \"abcd123\")"
   ]
  },
  {
   "cell_type": "code",
   "execution_count": 15,
   "id": "c077d235-7c55-4f52-ad11-a18b7befddb6",
   "metadata": {},
   "outputs": [],
   "source": [
    "user_a = User.create_user(\"test_user0@gmail.com\", \"abcd123\")"
   ]
  },
  {
   "cell_type": "code",
   "execution_count": 16,
   "id": "202f42e3-8ca7-4abf-bd86-bdd7f344990b",
   "metadata": {},
   "outputs": [
    {
     "data": {
      "text/plain": [
       "'$argon2id$v=19$m=65536,t=3,p=4$fCCevK0BQnckjQUowIF1kw$jntHtM/FpPlOWL4Otb748H4HuVq12EABsq6XLd/IsHU'"
      ]
     },
     "execution_count": 16,
     "metadata": {},
     "output_type": "execute_result"
    }
   ],
   "source": [
    "user_a.password"
   ]
  },
  {
   "cell_type": "code",
   "execution_count": 18,
   "id": "771cf6cd-e759-47c0-8dde-2f668fa4347d",
   "metadata": {},
   "outputs": [
    {
     "data": {
      "text/plain": [
       "UUID('747a614a-f768-11ef-a8aa-b55a6820d2a6')"
      ]
     },
     "execution_count": 18,
     "metadata": {},
     "output_type": "execute_result"
    }
   ],
   "source": [
    "user_a.user_id\n",
    "# user_a.email"
   ]
  },
  {
   "cell_type": "code",
   "execution_count": 19,
   "id": "65b893b8-e3dd-427e-a830-d7b2458ed0e7",
   "metadata": {},
   "outputs": [
    {
     "data": {
      "text/plain": [
       "True"
      ]
     },
     "execution_count": 19,
     "metadata": {},
     "output_type": "execute_result"
    }
   ],
   "source": [
    "user_a.verify_password(\"abcd123\")"
   ]
  },
  {
   "cell_type": "code",
   "execution_count": 20,
   "id": "399cb05e-0492-475f-a15a-e62bd3f01f40",
   "metadata": {},
   "outputs": [
    {
     "data": {
      "text/plain": [
       "False"
      ]
     },
     "execution_count": 20,
     "metadata": {},
     "output_type": "execute_result"
    }
   ],
   "source": [
    "user_a.verify_password(\"abcd12345\")"
   ]
  },
  {
   "cell_type": "code",
   "execution_count": 23,
   "id": "722468c3-0530-4ee7-85ba-4eb6e79c80a9",
   "metadata": {},
   "outputs": [
    {
     "ename": "AttributeError",
     "evalue": "'NoneType' object has no attribute 'encode'",
     "output_type": "error",
     "traceback": [
      "\u001b[1;31m---------------------------------------------------------------------------\u001b[0m",
      "\u001b[1;31mAttributeError\u001b[0m                            Traceback (most recent call last)",
      "Cell \u001b[1;32mIn[23], line 1\u001b[0m\n\u001b[1;32m----> 1\u001b[0m user_b \u001b[38;5;241m=\u001b[39m \u001b[43mUser\u001b[49m\u001b[38;5;241;43m.\u001b[39;49m\u001b[43mcreate_user\u001b[49m\u001b[43m(\u001b[49m\u001b[38;5;124;43m\"\u001b[39;49m\u001b[38;5;124;43mtest_user1@gmail.com\u001b[39;49m\u001b[38;5;124;43m\"\u001b[39;49m\u001b[43m)\u001b[49m\n",
      "File \u001b[1;32mD:\\Govind's Library\\projects\\fastapi-video-membership-webapp\\app\\users\\models.py:60\u001b[0m, in \u001b[0;36mUser.create_user\u001b[1;34m(email, password)\u001b[0m\n\u001b[0;32m     57\u001b[0m     \u001b[38;5;28;01mraise\u001b[39;00m \u001b[38;5;167;01mException\u001b[39;00m(\u001b[38;5;124mf\u001b[39m\u001b[38;5;124m\"\u001b[39m\u001b[38;5;124mInvalid email : \u001b[39m\u001b[38;5;132;01m{\u001b[39;00mmsg\u001b[38;5;132;01m}\u001b[39;00m\u001b[38;5;124m\"\u001b[39m)\n\u001b[0;32m     59\u001b[0m obj \u001b[38;5;241m=\u001b[39m User(email\u001b[38;5;241m=\u001b[39memail)  \u001b[38;5;66;03m# Create an User object/Instance.\u001b[39;00m\n\u001b[1;32m---> 60\u001b[0m \u001b[43mobj\u001b[49m\u001b[38;5;241;43m.\u001b[39;49m\u001b[43mset_password\u001b[49m\u001b[43m(\u001b[49m\u001b[43mpassword\u001b[49m\u001b[43m)\u001b[49m \u001b[38;5;66;03m# in set_password func commit will go as false, thus object won't be saved in db in that function, but will happen below. \u001b[39;00m\n\u001b[0;32m     61\u001b[0m obj\u001b[38;5;241m.\u001b[39msave()  \u001b[38;5;66;03m# Saves an object to the database. This is where it adds object to database.\u001b[39;00m\n\u001b[0;32m     62\u001b[0m \u001b[38;5;28;01mreturn\u001b[39;00m obj\n",
      "File \u001b[1;32mD:\\Govind's Library\\projects\\fastapi-video-membership-webapp\\app\\users\\models.py:42\u001b[0m, in \u001b[0;36mUser.set_password\u001b[1;34m(self, pwd, commit)\u001b[0m\n\u001b[0;32m     41\u001b[0m \u001b[38;5;28;01mdef\u001b[39;00m \u001b[38;5;21mset_password\u001b[39m(\u001b[38;5;28mself\u001b[39m, pwd, commit\u001b[38;5;241m=\u001b[39m\u001b[38;5;28;01mFalse\u001b[39;00m):  \u001b[38;5;66;03m# if boolean, true not passed then commit will be False. And data not saved in db.\u001b[39;00m\n\u001b[1;32m---> 42\u001b[0m     pwd_hash \u001b[38;5;241m=\u001b[39m \u001b[43msecurity\u001b[49m\u001b[38;5;241;43m.\u001b[39;49m\u001b[43mgenerate_hash\u001b[49m\u001b[43m(\u001b[49m\u001b[43mpwd\u001b[49m\u001b[43m)\u001b[49m\n\u001b[0;32m     43\u001b[0m     \u001b[38;5;28mself\u001b[39m\u001b[38;5;241m.\u001b[39mpassword \u001b[38;5;241m=\u001b[39m pwd_hash  \u001b[38;5;66;03m# This is a class method. In the static method (nothing to do with objects and can be called directly using class name ) below we create a User object and call set password on that to put pwd in password attribute of that object.\u001b[39;00m\n\u001b[0;32m     44\u001b[0m     \u001b[38;5;28;01mif\u001b[39;00m commit:\n",
      "File \u001b[1;32mD:\\Govind's Library\\projects\\fastapi-video-membership-webapp\\app\\users\\security.py:7\u001b[0m, in \u001b[0;36mgenerate_hash\u001b[1;34m(pwd_raw)\u001b[0m\n\u001b[0;32m      5\u001b[0m \u001b[38;5;28;01mdef\u001b[39;00m \u001b[38;5;21mgenerate_hash\u001b[39m(pwd_raw):\n\u001b[0;32m      6\u001b[0m     ph \u001b[38;5;241m=\u001b[39m PasswordHasher()  \u001b[38;5;66;03m# Creating hashing class\u001b[39;00m\n\u001b[1;32m----> 7\u001b[0m     \u001b[38;5;28;01mreturn\u001b[39;00m \u001b[43mph\u001b[49m\u001b[38;5;241;43m.\u001b[39;49m\u001b[43mhash\u001b[49m\u001b[43m(\u001b[49m\u001b[43mpwd_raw\u001b[49m\u001b[43m)\u001b[49m\n",
      "File \u001b[1;32m~\\anaconda3\\envs\\fastapi_astradb\\lib\\site-packages\\argon2\\_password_hasher.py:158\u001b[0m, in \u001b[0;36mPasswordHasher.hash\u001b[1;34m(self, password)\u001b[0m\n\u001b[0;32m    146\u001b[0m \u001b[38;5;28;01mdef\u001b[39;00m \u001b[38;5;21mhash\u001b[39m(\u001b[38;5;28mself\u001b[39m, password: Union[\u001b[38;5;28mstr\u001b[39m, \u001b[38;5;28mbytes\u001b[39m]) \u001b[38;5;241m-\u001b[39m\u001b[38;5;241m>\u001b[39m \u001b[38;5;28mstr\u001b[39m:\n\u001b[0;32m    147\u001b[0m \u001b[38;5;250m    \u001b[39m\u001b[38;5;124;03m\"\"\"\u001b[39;00m\n\u001b[0;32m    148\u001b[0m \u001b[38;5;124;03m    Hash *password* and return an encoded hash.\u001b[39;00m\n\u001b[0;32m    149\u001b[0m \n\u001b[1;32m   (...)\u001b[0m\n\u001b[0;32m    155\u001b[0m \u001b[38;5;124;03m    :rtype: str\u001b[39;00m\n\u001b[0;32m    156\u001b[0m \u001b[38;5;124;03m    \"\"\"\u001b[39;00m\n\u001b[0;32m    157\u001b[0m     \u001b[38;5;28;01mreturn\u001b[39;00m hash_secret(\n\u001b[1;32m--> 158\u001b[0m         secret\u001b[38;5;241m=\u001b[39m\u001b[43m_ensure_bytes\u001b[49m\u001b[43m(\u001b[49m\u001b[43mpassword\u001b[49m\u001b[43m,\u001b[49m\u001b[43m \u001b[49m\u001b[38;5;28;43mself\u001b[39;49m\u001b[38;5;241;43m.\u001b[39;49m\u001b[43mencoding\u001b[49m\u001b[43m)\u001b[49m,\n\u001b[0;32m    159\u001b[0m         salt\u001b[38;5;241m=\u001b[39mos\u001b[38;5;241m.\u001b[39murandom(\u001b[38;5;28mself\u001b[39m\u001b[38;5;241m.\u001b[39msalt_len),\n\u001b[0;32m    160\u001b[0m         time_cost\u001b[38;5;241m=\u001b[39m\u001b[38;5;28mself\u001b[39m\u001b[38;5;241m.\u001b[39mtime_cost,\n\u001b[0;32m    161\u001b[0m         memory_cost\u001b[38;5;241m=\u001b[39m\u001b[38;5;28mself\u001b[39m\u001b[38;5;241m.\u001b[39mmemory_cost,\n\u001b[0;32m    162\u001b[0m         parallelism\u001b[38;5;241m=\u001b[39m\u001b[38;5;28mself\u001b[39m\u001b[38;5;241m.\u001b[39mparallelism,\n\u001b[0;32m    163\u001b[0m         hash_len\u001b[38;5;241m=\u001b[39m\u001b[38;5;28mself\u001b[39m\u001b[38;5;241m.\u001b[39mhash_len,\n\u001b[0;32m    164\u001b[0m         \u001b[38;5;28mtype\u001b[39m\u001b[38;5;241m=\u001b[39m\u001b[38;5;28mself\u001b[39m\u001b[38;5;241m.\u001b[39mtype,\n\u001b[0;32m    165\u001b[0m     )\u001b[38;5;241m.\u001b[39mdecode(\u001b[38;5;124m\"\u001b[39m\u001b[38;5;124mascii\u001b[39m\u001b[38;5;124m\"\u001b[39m)\n",
      "File \u001b[1;32m~\\anaconda3\\envs\\fastapi_astradb\\lib\\site-packages\\argon2\\_password_hasher.py:27\u001b[0m, in \u001b[0;36m_ensure_bytes\u001b[1;34m(s, encoding)\u001b[0m\n\u001b[0;32m     25\u001b[0m \u001b[38;5;28;01mif\u001b[39;00m \u001b[38;5;28misinstance\u001b[39m(s, \u001b[38;5;28mbytes\u001b[39m):\n\u001b[0;32m     26\u001b[0m     \u001b[38;5;28;01mreturn\u001b[39;00m s\n\u001b[1;32m---> 27\u001b[0m \u001b[38;5;28;01mreturn\u001b[39;00m \u001b[43ms\u001b[49m\u001b[38;5;241;43m.\u001b[39;49m\u001b[43mencode\u001b[49m(encoding)\n",
      "\u001b[1;31mAttributeError\u001b[0m: 'NoneType' object has no attribute 'encode'"
     ]
    }
   ],
   "source": [
    "user_b = User.create_user(\"test_user1@gmail.com\")  # User without password, giving error."
   ]
  },
  {
   "cell_type": "code",
   "execution_count": null,
   "id": "b136719d-b4ba-4579-89d1-15d11ea762d0",
   "metadata": {},
   "outputs": [],
   "source": []
  }
 ],
 "metadata": {
  "kernelspec": {
   "display_name": "Python 3 (ipykernel)",
   "language": "python",
   "name": "python3"
  },
  "language_info": {
   "codemirror_mode": {
    "name": "ipython",
    "version": 3
   },
   "file_extension": ".py",
   "mimetype": "text/x-python",
   "name": "python",
   "nbconvert_exporter": "python",
   "pygments_lexer": "ipython3",
   "version": "3.8.20"
  }
 },
 "nbformat": 4,
 "nbformat_minor": 5
}
